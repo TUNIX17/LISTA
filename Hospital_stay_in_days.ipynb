{
  "nbformat": 4,
  "nbformat_minor": 0,
  "metadata": {
    "colab": {
      "private_outputs": true,
      "provenance": [],
      "authorship_tag": "ABX9TyPQ/rR9sQEYqG+FAhqx14VX",
      "include_colab_link": true
    },
    "kernelspec": {
      "name": "python3",
      "display_name": "Python 3"
    },
    "language_info": {
      "name": "python"
    }
  },
  "cells": [
    {
      "cell_type": "markdown",
      "metadata": {
        "id": "view-in-github",
        "colab_type": "text"
      },
      "source": [
        "<a href=\"https://colab.research.google.com/github/TUNIX17/LISTA/blob/main/Hospital_stay_in_days.ipynb\" target=\"_parent\"><img src=\"https://colab.research.google.com/assets/colab-badge.svg\" alt=\"Open In Colab\"/></a>"
      ]
    },
    {
      "cell_type": "code",
      "execution_count": null,
      "metadata": {
        "id": "-FdMptKfsbOg"
      },
      "outputs": [],
      "source": [
        "# prompt: upload file\n",
        "\n",
        "from google.colab import files\n",
        "\n",
        "uploaded = files.upload()\n",
        "\n",
        "for fn in uploaded.keys():\n",
        "  print('User uploaded file \"{name}\" with length {length} bytes'.format(\n",
        "      name=fn, length=len(uploaded[fn])))\n",
        "  # Do something with the uploaded file, e.g.:\n",
        "  #   with open(fn, 'wb') as f:\n",
        "  #     f.write(uploaded[fn])\n"
      ]
    },
    {
      "cell_type": "code",
      "source": [
        "# prompt: show schema\n",
        "\n",
        "import pandas as pd\n",
        "\n",
        "# Read the uploaded CSV file into a DataFrame\n",
        "df = pd.read_csv(fn)\n",
        "\n",
        "# Print the schema of the DataFrame\n",
        "print(df.info())\n"
      ],
      "metadata": {
        "id": "2e5OYKe056r7"
      },
      "execution_count": null,
      "outputs": []
    },
    {
      "cell_type": "code",
      "source": [
        "# Import necessary libraries\n",
        "import pandas as pd\n",
        "import lightgbm as lgb\n",
        "import joblib\n",
        "import matplotlib.pyplot as plt\n",
        "from sklearn.model_selection import train_test_split\n",
        "from sklearn.pipeline import Pipeline\n",
        "from sklearn.compose import ColumnTransformer\n",
        "from sklearn.preprocessing import OneHotEncoder\n",
        "from sklearn.metrics import r2_score\n",
        "\n",
        "# Load the dataset\n",
        "df = pd.read_csv('hospital.csv')\n",
        "\n",
        "# Define features and target\n",
        "X = df.drop(columns=['Stay (in days)'])\n",
        "y = df['Stay (in days)']\n",
        "\n",
        "# Define categorical features\n",
        "categorical_features = ['Department', 'Ward_Facility_Code', 'doctor_name', 'gender', 'Type of Admission', 'Severity of Illness', 'Age']\n",
        "\n",
        "# Preprocessing for categorical data\n",
        "preprocessor = ColumnTransformer(\n",
        "    transformers=[\n",
        "        ('cat', OneHotEncoder(handle_unknown='ignore'), categorical_features)\n",
        "    ])\n",
        "\n",
        "# Define the LightGBM model with the given hyperparameters\n",
        "model = lgb.LGBMRegressor(\n",
        "    boosting_type='gbdt',\n",
        "    num_leaves=50,\n",
        "    learning_rate=0.1,\n",
        "    n_estimators=101,\n",
        "    min_child_samples=30,\n",
        "    subsample=1,\n",
        "    colsample_bytree=0.9\n",
        ")\n",
        "\n",
        "# Create a pipeline that includes the preprocessor and the model\n",
        "pipeline = Pipeline(steps=[('preprocessor', preprocessor), ('model', model)])\n",
        "\n",
        "# Split the data\n",
        "X_train, X_test, y_train, y_test = train_test_split(X, y, test_size=0.2, random_state=42)\n",
        "\n",
        "# Train the model\n",
        "pipeline.fit(X_train, y_train)\n",
        "\n",
        "# Evaluate the model\n",
        "y_pred = pipeline.predict(X_test)\n",
        "r2 = r2_score(y_test, y_pred)\n",
        "print(f'R-squared score: {r2}')\n",
        "\n",
        "# Save the model\n",
        "joblib.dump(pipeline, 'model.pkl')\n"
      ],
      "metadata": {
        "id": "YRLSNEFCs3YH"
      },
      "execution_count": null,
      "outputs": []
    }
  ]
}