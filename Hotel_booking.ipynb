{
  "nbformat": 4,
  "nbformat_minor": 0,
  "metadata": {
    "colab": {
      "private_outputs": true,
      "provenance": [],
      "authorship_tag": "ABX9TyPrNp4ZeTCgIymnSgXWwsmE",
      "include_colab_link": true
    },
    "kernelspec": {
      "name": "python3",
      "display_name": "Python 3"
    },
    "language_info": {
      "name": "python"
    }
  },
  "cells": [
    {
      "cell_type": "markdown",
      "metadata": {
        "id": "view-in-github",
        "colab_type": "text"
      },
      "source": [
        "<a href=\"https://colab.research.google.com/github/TUNIX17/LISTA/blob/main/Hotel_booking.ipynb\" target=\"_parent\"><img src=\"https://colab.research.google.com/assets/colab-badge.svg\" alt=\"Open In Colab\"/></a>"
      ]
    },
    {
      "cell_type": "code",
      "execution_count": null,
      "metadata": {
        "id": "s5PrBNcMCl5O"
      },
      "outputs": [],
      "source": [
        "# prompt: upload a file\n",
        "\n",
        "from google.colab import files\n",
        "\n",
        "uploaded = files.upload()\n",
        "\n",
        "for fn in uploaded.keys():\n",
        "  print('User uploaded file \"{name}\" with length {length} bytes'.format(\n",
        "      name=fn, length=len(uploaded[fn])))\n"
      ]
    },
    {
      "cell_type": "code",
      "source": [
        "import pandas as pd\n",
        "from sklearn.model_selection import train_test_split\n",
        "from sklearn.preprocessing import OneHotEncoder, StandardScaler\n",
        "from sklearn.compose import ColumnTransformer\n",
        "from sklearn.pipeline import Pipeline\n",
        "from sklearn.ensemble import GradientBoostingClassifier\n",
        "from sklearn.metrics import classification_report, confusion_matrix, accuracy_score\n",
        "import pickle\n",
        "\n",
        "# Load the dataset\n",
        "data = pd.read_csv('transformed_dataset1.csv')\n",
        "\n",
        "# Define feature columns and target\n",
        "feature_columns = [\n",
        "    'no_of_adults', 'no_of_children', 'type_of_meal_plan', 'required_car_parking_space',\n",
        "    'room_type_reserved', 'lead_time', 'market_segment_type', 'repeated_guest',\n",
        "    'avg_price_per_room', 'no_of_special_requests', 'total_of_days', 'No_of_week_days', 'No_of_weekend_days'\n",
        "]\n",
        "target_column = 'booking_status'\n",
        "\n",
        "# Split the data into features and target\n",
        "X = data[feature_columns]\n",
        "y = data[target_column].apply(lambda x: 1 if x == 'Canceled' else 0)\n",
        "\n",
        "# Split the data into training and testing sets\n",
        "X_train, X_test, y_train, y_test = train_test_split(X, y, test_size=0.2, random_state=42)\n",
        "\n",
        "# Define preprocessing for numeric and categorical columns\n",
        "numeric_features = [\n",
        "    'no_of_adults', 'no_of_children', 'lead_time', 'avg_price_per_room',\n",
        "    'no_of_special_requests', 'total_of_days', 'No_of_week_days', 'No_of_weekend_days'\n",
        "]\n",
        "numeric_transformer = Pipeline(steps=[\n",
        "    ('scaler', StandardScaler())\n",
        "])\n",
        "\n",
        "categorical_features = [\n",
        "    'type_of_meal_plan', 'room_type_reserved', 'market_segment_type',\n",
        "    'required_car_parking_space', 'repeated_guest'\n",
        "]\n",
        "categorical_transformer = Pipeline(steps=[\n",
        "    ('onehot', OneHotEncoder(handle_unknown='ignore'))\n",
        "])\n",
        "\n",
        "# Combine preprocessing steps\n",
        "preprocessor = ColumnTransformer(\n",
        "    transformers=[\n",
        "        ('num', numeric_transformer, numeric_features),\n",
        "        ('cat', categorical_transformer, categorical_features)\n",
        "    ]\n",
        ")\n",
        "\n",
        "# Define the model pipeline\n",
        "model = Pipeline(steps=[\n",
        "    ('preprocessor', preprocessor),\n",
        "    ('classifier', GradientBoostingClassifier())\n",
        "])\n",
        "\n",
        "# Train the model\n",
        "model.fit(X_train, y_train)\n",
        "\n",
        "# Make predictions\n",
        "y_pred = model.predict(X_test)\n",
        "y_pred_proba = model.predict_proba(X_test)[:, 1]\n",
        "\n",
        "# Evaluate the model\n",
        "print(\"Accuracy:\", accuracy_score(y_test, y_pred))\n",
        "print(\"Confusion Matrix:\\n\", confusion_matrix(y_test, y_pred))\n",
        "print(\"Classification Report:\\n\", classification_report(y_test, y_pred))\n",
        "\n",
        "# Save the entire pipeline\n",
        "with open('model.pkl', 'wb') as f:\n",
        "    pickle.dump(model, f)\n"
      ],
      "metadata": {
        "id": "UUA-wi4pC2pD"
      },
      "execution_count": null,
      "outputs": []
    }
  ]
}